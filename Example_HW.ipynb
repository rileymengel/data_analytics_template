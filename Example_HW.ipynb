{
 "cells": [
  {
   "cell_type": "code",
   "execution_count": 1,
   "id": "8c4c6064-dae9-45b7-8eec-f7a759e76a71",
   "metadata": {},
   "outputs": [],
   "source": [
    "# Example \n",
    "# Data analytics Template Example \n"
   ]
  },
  {
   "cell_type": "code",
   "execution_count": 2,
   "id": "357df916-c6dc-4421-84aa-32f61404224b",
   "metadata": {},
   "outputs": [],
   "source": [
    "## Code here "
   ]
  },
  {
   "cell_type": "code",
   "execution_count": 7,
   "id": "a43cd013-98d2-4634-a2f5-819cb7ede4f1",
   "metadata": {},
   "outputs": [
    {
     "name": "stdout",
     "output_type": "stream",
     "text": [
      "Hello World\n"
     ]
    }
   ],
   "source": [
    "print(\"Hello World\")"
   ]
  },
  {
   "cell_type": "code",
   "execution_count": null,
   "id": "35ec809d-90b1-4a24-a219-3229d738fc95",
   "metadata": {},
   "outputs": [],
   "source": []
  }
 ],
 "metadata": {
  "kernelspec": {
   "display_name": "Python 3 (ipykernel)",
   "language": "python",
   "name": "python3"
  },
  "language_info": {
   "codemirror_mode": {
    "name": "ipython",
    "version": 3
   },
   "file_extension": ".py",
   "mimetype": "text/x-python",
   "name": "python",
   "nbconvert_exporter": "python",
   "pygments_lexer": "ipython3",
   "version": "3.11.5"
  }
 },
 "nbformat": 4,
 "nbformat_minor": 5
}
