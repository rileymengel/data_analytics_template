{
 "cells": [
  {
   "cell_type": "markdown",
   "id": "3f115f3b-f3c1-43da-88bc-2ea091807126",
   "metadata": {},
   "source": [
    "# Example \n",
    "# Data Analytics Template Example \n"
   ]
  },
  {
   "cell_type": "code",
   "execution_count": 11,
   "id": "357df916-c6dc-4421-84aa-32f61404224b",
   "metadata": {},
   "outputs": [],
   "source": [
    "## Code here "
   ]
  },
  {
   "cell_type": "code",
   "execution_count": 13,
   "id": "a43cd013-98d2-4634-a2f5-819cb7ede4f1",
   "metadata": {},
   "outputs": [
    {
     "name": "stdout",
     "output_type": "stream",
     "text": [
      "Hello World\n"
     ]
    }
   ],
   "source": [
    "print(\"Hello World\")"
   ]
  },
  {
   "cell_type": "code",
   "execution_count": null,
   "id": "35ec809d-90b1-4a24-a219-3229d738fc95",
   "metadata": {},
   "outputs": [],
   "source": []
  }
 ],
 "metadata": {
  "kernelspec": {
   "display_name": "Python 3 (ipykernel)",
   "language": "python",
   "name": "python3"
  },
  "language_info": {
   "codemirror_mode": {
    "name": "ipython",
    "version": 3
   },
   "file_extension": ".py",
   "mimetype": "text/x-python",
   "name": "python",
   "nbconvert_exporter": "python",
   "pygments_lexer": "ipython3",
   "version": "3.11.5"
  }
 },
 "nbformat": 4,
 "nbformat_minor": 5
}
